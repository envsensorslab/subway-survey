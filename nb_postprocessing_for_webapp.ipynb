{
 "cells": [
  {
   "cell_type": "code",
   "execution_count": 6,
   "metadata": {},
   "outputs": [],
   "source": [
    "import glob\n",
    "import os\n",
    "\n",
    "import geopandas\n",
    "import pandas\n",
    "\n",
    "# typedefs\n",
    "T_DataFrame = pandas.core.frame.DataFrame\n",
    "T_GeoDataFrame = geopandas.geodataframe.GeoDataFrame"
   ]
  },
  {
   "cell_type": "markdown",
   "metadata": {},
   "source": [
    "# aggregate data for the commute graph"
   ]
  },
  {
   "cell_type": "code",
   "execution_count": 7,
   "metadata": {},
   "outputs": [],
   "source": [
    "def concat_all(geometry: str) -> T_DataFrame:\n",
    "    return pandas.concat([\n",
    "        pandas.read_csv(path)\\\n",
    "            .assign(quantity=os.path.basename(path).replace(\".csv\", \"\"))\n",
    "        for path in glob.glob(\"output/webapp/{}/*\".format(geometry))\n",
    "    ])\n",
    "\n",
    "df_segments = concat_all(\"segments\")\n",
    "df_stations = concat_all(\"stations\")"
   ]
  },
  {
   "cell_type": "code",
   "execution_count": 8,
   "metadata": {},
   "outputs": [],
   "source": [
    "df_segments.to_csv(\"output/webapp/segments.csv\", index=False)\n",
    "df_stations.to_csv(\"output/webapp/stations.csv\", index=False)"
   ]
  },
  {
   "cell_type": "code",
   "execution_count": 9,
   "metadata": {},
   "outputs": [],
   "source": [
    "gdf_segments = geopandas.read_file(\"analysis/geometries/segments.geojson\").to_crs({\"init\": \"epsg:4326\"})\n",
    "gdf_stations = geopandas.read_file(\"analysis/geometries/stations.geojson\").to_crs({\"init\": \"epsg:4326\"})"
   ]
  },
  {
   "cell_type": "markdown",
   "metadata": {},
   "source": [
    "# aggregate data in geojson format for the system graph"
   ]
  },
  {
   "cell_type": "code",
   "execution_count": 10,
   "metadata": {},
   "outputs": [],
   "source": [
    "ALL_INDEX_COLUMNS = {\"STATION\", \"START_STATION\", \"END_STATION\", \"ROUTE\", \"LINE\"}\n",
    "\n",
    "def flatten_and_merge(df: T_DataFrame, gdf: T_GeoDataFrame) -> T_GeoDataFrame:\n",
    "    index_columns = list(ALL_INDEX_COLUMNS.intersection(df.columns))\n",
    "    gdf_flattened = geopandas.GeoDataFrame(\n",
    "        pandas.merge(\n",
    "            gdf,\n",
    "            df.pivot_table(\n",
    "                index=index_columns,\n",
    "                values=\"center\",\n",
    "                columns=\"quantity\"\n",
    "            ).reset_index(),\n",
    "            on=index_columns\n",
    "        )\n",
    "    )\n",
    "    gdf_flattened[\"length_mi\"] = gdf.to_crs({\"init\": \"epsg:2249\"}).length / 5280 # NAD83 MA ftUS\n",
    "    gdf_flattened.crs = gdf.crs\n",
    "    return gdf_flattened\n",
    "\n",
    "flatten_and_merge(df_segments, gdf_segments).to_file(\"output/webapp/segments-centers.geojson\", driver=\"GeoJSON\")\n",
    "flatten_and_merge(df_stations, gdf_stations).to_file(\"output/webapp/stations-centers.geojson\", driver=\"GeoJSON\")"
   ]
  },
  {
   "cell_type": "markdown",
   "metadata": {},
   "source": [
    "# calculation of reference values for particulates"
   ]
  },
  {
   "cell_type": "code",
   "execution_count": null,
   "metadata": {},
   "outputs": [],
   "source": [
    "here, we are using the formula provided by "
   ]
  }
 ],
 "metadata": {
  "kernelspec": {
   "display_name": "Python 3",
   "language": "python",
   "name": "python3"
  },
  "language_info": {
   "codemirror_mode": {
    "name": "ipython",
    "version": 3
   },
   "file_extension": ".py",
   "mimetype": "text/x-python",
   "name": "python",
   "nbconvert_exporter": "python",
   "pygments_lexer": "ipython3",
   "version": "3.7.4"
  }
 },
 "nbformat": 4,
 "nbformat_minor": 4
}
