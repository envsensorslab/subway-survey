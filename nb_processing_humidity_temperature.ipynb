{
 "cells": [
  {
   "cell_type": "code",
   "execution_count": 1,
   "metadata": {},
   "outputs": [],
   "source": [
    "import datetime\n",
    "import glob\n",
    "import geopandas\n",
    "import numpy\n",
    "import pandas\n",
    "\n",
    "from matplotlib import pyplot"
   ]
  },
  {
   "cell_type": "code",
   "execution_count": 2,
   "metadata": {},
   "outputs": [],
   "source": [
    "import lib"
   ]
  },
  {
   "cell_type": "markdown",
   "metadata": {},
   "source": [
    "# Previewing the data"
   ]
  },
  {
   "cell_type": "code",
   "execution_count": 3,
   "metadata": {},
   "outputs": [
    {
     "name": "stderr",
     "output_type": "stream",
     "text": [
      "/home/leaf/Desktop/school/subwaysurvey/lib/__init__.py:84: SettingWithCopyWarning: \n",
      "A value is trying to be set on a copy of a slice from a DataFrame.\n",
      "Try using .loc[row_indexer,col_indexer] = value instead\n",
      "\n",
      "See the caveats in the documentation: https://pandas.pydata.org/pandas-docs/stable/user_guide/indexing.html#returning-a-view-versus-a-copy\n",
      "  subset[\"SAMPLE_ID\"] = sample_id\n",
      "/home/leaf/Desktop/school/subwaysurvey/lib/__init__.py:85: SettingWithCopyWarning: \n",
      "A value is trying to be set on a copy of a slice from a DataFrame.\n",
      "Try using .loc[row_indexer,col_indexer] = value instead\n",
      "\n",
      "See the caveats in the documentation: https://pandas.pydata.org/pandas-docs/stable/user_guide/indexing.html#returning-a-view-versus-a-copy\n",
      "  subset[\"LOCATION\"] = row[\"LOCATION\"]\n",
      "/home/leaf/Desktop/school/subwaysurvey/lib/__init__.py:86: SettingWithCopyWarning: \n",
      "A value is trying to be set on a copy of a slice from a DataFrame.\n",
      "Try using .loc[row_indexer,col_indexer] = value instead\n",
      "\n",
      "See the caveats in the documentation: https://pandas.pydata.org/pandas-docs/stable/user_guide/indexing.html#returning-a-view-versus-a-copy\n",
      "  subset[\"STATUS\"] = row[\"STATUS\"]\n",
      "/home/leaf/Desktop/school/subwaysurvey/lib/__init__.py:87: SettingWithCopyWarning: \n",
      "A value is trying to be set on a copy of a slice from a DataFrame.\n",
      "Try using .loc[row_indexer,col_indexer] = value instead\n",
      "\n",
      "See the caveats in the documentation: https://pandas.pydata.org/pandas-docs/stable/user_guide/indexing.html#returning-a-view-versus-a-copy\n",
      "  subset[\"DIRECTION\"] = row[\"DIRECTION\"]\n"
     ]
    },
    {
     "data": {
      "text/html": [
       "<div>\n",
       "<style scoped>\n",
       "    .dataframe tbody tr th:only-of-type {\n",
       "        vertical-align: middle;\n",
       "    }\n",
       "\n",
       "    .dataframe tbody tr th {\n",
       "        vertical-align: top;\n",
       "    }\n",
       "\n",
       "    .dataframe thead th {\n",
       "        text-align: right;\n",
       "    }\n",
       "</style>\n",
       "<table border=\"1\" class=\"dataframe\">\n",
       "  <thead>\n",
       "    <tr style=\"text-align: right;\">\n",
       "      <th></th>\n",
       "      <th>TIMESTAMP</th>\n",
       "      <th>TEMPERATURE_F</th>\n",
       "      <th>RELATIVE_HUMIDITY_PCT</th>\n",
       "      <th>SAMPLE_ID</th>\n",
       "      <th>LOCATION</th>\n",
       "      <th>STATUS</th>\n",
       "      <th>DIRECTION</th>\n",
       "    </tr>\n",
       "  </thead>\n",
       "  <tbody>\n",
       "    <tr>\n",
       "      <th>15655</th>\n",
       "      <td>1.529634e+09</td>\n",
       "      <td>83.556</td>\n",
       "      <td>42.264</td>\n",
       "      <td>294</td>\n",
       "      <td>downtown crossing red to south station</td>\n",
       "      <td>left</td>\n",
       "      <td>1</td>\n",
       "    </tr>\n",
       "    <tr>\n",
       "      <th>36474</th>\n",
       "      <td>1.530238e+09</td>\n",
       "      <td>86.211</td>\n",
       "      <td>52.975</td>\n",
       "      <td>597</td>\n",
       "      <td>griggs street to harvard ave</td>\n",
       "      <td>left</td>\n",
       "      <td>0</td>\n",
       "    </tr>\n",
       "    <tr>\n",
       "      <th>13114</th>\n",
       "      <td>1.529467e+09</td>\n",
       "      <td>82.530</td>\n",
       "      <td>37.862</td>\n",
       "      <td>263</td>\n",
       "      <td>tufts medical center to back bay</td>\n",
       "      <td>left</td>\n",
       "      <td>1</td>\n",
       "    </tr>\n",
       "    <tr>\n",
       "      <th>16029</th>\n",
       "      <td>1.529634e+09</td>\n",
       "      <td>84.049</td>\n",
       "      <td>43.676</td>\n",
       "      <td>299</td>\n",
       "      <td>andrew</td>\n",
       "      <td>stopped</td>\n",
       "      <td>1</td>\n",
       "    </tr>\n",
       "    <tr>\n",
       "      <th>24340</th>\n",
       "      <td>1.529894e+09</td>\n",
       "      <td>79.173</td>\n",
       "      <td>46.483</td>\n",
       "      <td>104</td>\n",
       "      <td>park street green to boylston</td>\n",
       "      <td>left</td>\n",
       "      <td>1</td>\n",
       "    </tr>\n",
       "  </tbody>\n",
       "</table>\n",
       "</div>"
      ],
      "text/plain": [
       "          TIMESTAMP  TEMPERATURE_F  RELATIVE_HUMIDITY_PCT  SAMPLE_ID  \\\n",
       "15655  1.529634e+09         83.556                 42.264        294   \n",
       "36474  1.530238e+09         86.211                 52.975        597   \n",
       "13114  1.529467e+09         82.530                 37.862        263   \n",
       "16029  1.529634e+09         84.049                 43.676        299   \n",
       "24340  1.529894e+09         79.173                 46.483        104   \n",
       "\n",
       "                                     LOCATION   STATUS  DIRECTION  \n",
       "15655  downtown crossing red to south station     left          1  \n",
       "36474            griggs street to harvard ave     left          0  \n",
       "13114        tufts medical center to back bay     left          1  \n",
       "16029                                  andrew  stopped          1  \n",
       "24340           park street green to boylston     left          1  "
      ]
     },
     "execution_count": 3,
     "metadata": {},
     "output_type": "execute_result"
    }
   ],
   "source": [
    "HOBO_COLUMN_MAPPINGS = {\n",
    "    \"Date Time, GMT-04:00\": \"TIMESTAMP\",\n",
    "    \"Temp, °F (LGR S/N: 20311528, SEN S/N: 20311528)\": \"TEMPERATURE_F\",\n",
    "    \"RH, % (LGR S/N: 20311528, SEN S/N: 20311528)\": \"RELATIVE_HUMIDITY_PCT\"\n",
    "    # we ignore light intensity because that data is not useful\n",
    "    # (light sensor was covered up by noise sensor)\n",
    "}\n",
    "\n",
    "labels = pandas.concat([pandas.read_csv(x) for x in glob.glob(\"./labels/*.csv\")])\n",
    "for time_column in [\"START\", \"END\"]:\n",
    "    labels[time_column] = (labels[time_column] / 1000)\n",
    "\n",
    "raw_data = pandas.concat([\n",
    "    pandas.read_csv(part, skiprows=1)\n",
    "    for part in glob.glob(\"./data_2018/*/20*.csv\")\n",
    "]).rename(HOBO_COLUMN_MAPPINGS, axis=1)[HOBO_COLUMN_MAPPINGS.values()]\n",
    "raw_data[\"TIMESTAMP\"] = pandas\\\n",
    "    .to_datetime(raw_data[\"TIMESTAMP\"])\\\n",
    "    .apply(lambda dt: dt.timestamp() + 60*60*4) # 4 hour adjustment\n",
    "\n",
    "sj = lib.SubwayJoiner()\n",
    "\n",
    "labeled_data = sj.label_data(raw_data, labels)\\\n",
    "    .sort_values(\"TIMESTAMP\").reset_index(drop = True)\n",
    "\n",
    "df = labeled_data\n",
    "df.sample(5)"
   ]
  },
  {
   "cell_type": "code",
   "execution_count": 4,
   "metadata": {},
   "outputs": [
    {
     "data": {
      "text/plain": [
       "<matplotlib.axes._subplots.AxesSubplot at 0x7f8023b7e1d0>"
      ]
     },
     "execution_count": 4,
     "metadata": {},
     "output_type": "execute_result"
    },
    {
     "data": {
      "image/png": "[encoded data removed]",
      "text/plain": [
       "<Figure size 432x288 with 1 Axes>"
      ]
     },
     "metadata": {
      "needs_background": "light"
     },
     "output_type": "display_data"
    }
   ],
   "source": [
    "df[\"TEMPERATURE_F\"].hist()"
   ]
  },
  {
   "cell_type": "code",
   "execution_count": 5,
   "metadata": {},
   "outputs": [
    {
     "data": {
      "text/plain": [
       "<matplotlib.axes._subplots.AxesSubplot at 0x7f8023c47c50>"
      ]
     },
     "execution_count": 5,
     "metadata": {},
     "output_type": "execute_result"
    },
    {
     "data": {
      "image/png": "[encoded data removed]",
      "text/plain": [
       "<Figure size 432x288 with 1 Axes>"
      ]
     },
     "metadata": {
      "needs_background": "light"
     },
     "output_type": "display_data"
    }
   ],
   "source": [
    "df[\"RELATIVE_HUMIDITY_PCT\"].hist()"
   ]
  },
  {
   "cell_type": "markdown",
   "metadata": {},
   "source": [
    "# Analysis"
   ]
  },
  {
   "cell_type": "code",
   "execution_count": 6,
   "metadata": {},
   "outputs": [],
   "source": [
    "ESRI_TEMPLATE = \"https://server.arcgisonline.com/ArcGIS/rest/services/%s/MapServer/tile/{z}/{y}/{x}\"\n",
    "ESRI_WORLD_STREET_MAP = ESRI_TEMPLATE % \"World_Street_Map\"\n",
    "ESRI_WORLD_IMAGERY = ESRI_TEMPLATE % \"World_Imagery\"\n",
    "ESRI_WORLD_LIGHT_GRAY_BASE = ESRI_TEMPLATE % \"Canvas/World_Light_Gray_Base\"\n",
    "\n",
    "CARTODB_TEMPLATE = \"https://a.basemaps.cartocdn.com/%s/{z}/{x}/{y}.png\"\n",
    "CARTODB_DARK = CARTODB_TEMPLATE % \"dark_all\"\n",
    "CARTODB_DARK_NOLABELS = CARTODB_TEMPLATE % \"dark_nolabels\"\n",
    "CARTODB_LIGHT = CARTODB_TEMPLATE % \"light_all\"\n",
    "CARTODB_LIGHT_NOLABELS = CARTODB_TEMPLATE % \"light_nolabels\"\n",
    "\n",
    "HOBO_AGGREGATES = {\n",
    "    \"TEMPERATURE_F\": [\"median\", \"mean\", \"max\", \"std\", \"count\"],\n",
    "    \"RELATIVE_HUMIDITY_PCT\": [\"median\", \"mean\", \"max\", \"std\", \"count\"]\n",
    "}"
   ]
  },
  {
   "cell_type": "code",
   "execution_count": 7,
   "metadata": {},
   "outputs": [
    {
     "name": "stderr",
     "output_type": "stream",
     "text": [
      "/home/leaf/Desktop/school/subwaysurvey/lib/__init__.py:106: SettingWithCopyWarning: \n",
      "A value is trying to be set on a copy of a slice from a DataFrame.\n",
      "Try using .loc[row_indexer,col_indexer] = value instead\n",
      "\n",
      "See the caveats in the documentation: https://pandas.pydata.org/pandas-docs/stable/user_guide/indexing.html#returning-a-view-versus-a-copy\n",
      "  .apply(lambda x: x[0])\n",
      "/home/leaf/Desktop/school/subwaysurvey/lib/__init__.py:108: SettingWithCopyWarning: \n",
      "A value is trying to be set on a copy of a slice from a DataFrame.\n",
      "Try using .loc[row_indexer,col_indexer] = value instead\n",
      "\n",
      "See the caveats in the documentation: https://pandas.pydata.org/pandas-docs/stable/user_guide/indexing.html#returning-a-view-versus-a-copy\n",
      "  .apply(lambda x: x[1])\n"
     ]
    }
   ],
   "source": [
    "(stations, segments) = sj.geospatial_join(df)"
   ]
  },
  {
   "cell_type": "code",
   "execution_count": 8,
   "metadata": {},
   "outputs": [],
   "source": [
    "lib.export_all_aggregates(stations, segments, HOBO_AGGREGATES, \"temperature\")"
   ]
  },
  {
   "cell_type": "code",
   "execution_count": 9,
   "metadata": {},
   "outputs": [],
   "source": [
    "lib.export_webapp_input(\n",
    "    stations, segments,\n",
    "    aggregates=HOBO_AGGREGATES,\n",
    "    value_generators={\n",
    "        \"center\": lambda row: row[\"TEMPERATURE_F.mean\"],\n",
    "        \"upper\": lambda row: row[\"TEMPERATURE_F.mean\"] + row[\"TEMPERATURE_F.std\"],\n",
    "        \"lower\": lambda row: row[\"TEMPERATURE_F.mean\"] - row[\"TEMPERATURE_F.std\"]\n",
    "    },\n",
    "    metadata={\n",
    "        \"axis\": \"Temperature [°F]\",\n",
    "        \"selection\": \"temperature (May 2018)\",\n",
    "        \"center_desc\": \"Mean\",\n",
    "        \"variability_desc\": \"Mean ± 1SD\",\n",
    "        \"colormap\": \"inferno\"\n",
    "    },\n",
    "    quantity=\"temperature\"\n",
    ")\n",
    "lib.export_webapp_histograms(\n",
    "    stations, segments, \"TEMPERATURE_F\", \"temperature\", 30\n",
    ")\n",
    "\n",
    "lib.export_webapp_input(\n",
    "    stations, segments,\n",
    "    aggregates=HOBO_AGGREGATES,\n",
    "    value_generators={\n",
    "        \"center\": lambda row: row[\"RELATIVE_HUMIDITY_PCT.mean\"],\n",
    "        \"upper\": lambda row: row[\"RELATIVE_HUMIDITY_PCT.mean\"] + row[\"RELATIVE_HUMIDITY_PCT.std\"],\n",
    "        \"lower\": lambda row: row[\"RELATIVE_HUMIDITY_PCT.mean\"] - row[\"RELATIVE_HUMIDITY_PCT.std\"]\n",
    "    },\n",
    "    metadata={\n",
    "        \"axis\": \"Relative Humidity [%]\",\n",
    "        \"selection\": \"relative humidity (May 2018)\",\n",
    "        \"center_desc\": \"Mean\",\n",
    "        \"variability_desc\": \"Mean ± 1SD\",\n",
    "        \"colormap\": \"cividis\"\n",
    "    },\n",
    "    quantity=\"humidity\"\n",
    ")\n",
    "lib.export_webapp_histograms(\n",
    "    stations, segments, \"RELATIVE_HUMIDITY_PCT\", \"humidity\", 30\n",
    ")"
   ]
  },
  {
   "cell_type": "code",
   "execution_count": null,
   "metadata": {},
   "outputs": [],
   "source": []
  }
 ],
 "metadata": {
  "kernelspec": {
   "display_name": "Python 3",
   "language": "python",
   "name": "python3"
  },
  "language_info": {
   "codemirror_mode": {
    "name": "ipython",
    "version": 3
   },
   "file_extension": ".py",
   "mimetype": "text/x-python",
   "name": "python",
   "nbconvert_exporter": "python",
   "pygments_lexer": "ipython3",
   "version": "3.7.4"
  }
 },
 "nbformat": 4,
 "nbformat_minor": 4
}
