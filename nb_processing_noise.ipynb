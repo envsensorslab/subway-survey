{
 "cells": [
  {
   "cell_type": "code",
   "execution_count": 1,
   "metadata": {},
   "outputs": [],
   "source": [
    "import contextily\n",
    "import datetime\n",
    "import glob\n",
    "import geopandas\n",
    "import numpy\n",
    "import pandas\n",
    "\n",
    "from matplotlib import pyplot"
   ]
  },
  {
   "cell_type": "code",
   "execution_count": 2,
   "metadata": {},
   "outputs": [],
   "source": [
    "import lib"
   ]
  },
  {
   "cell_type": "markdown",
   "metadata": {},
   "source": [
    "# Previewing the data"
   ]
  },
  {
   "cell_type": "code",
   "execution_count": 3,
   "metadata": {},
   "outputs": [
    {
     "name": "stderr",
     "output_type": "stream",
     "text": [
      "/home/leaf/Desktop/school/subwaysurvey/lib/__init__.py:84: SettingWithCopyWarning: \n",
      "A value is trying to be set on a copy of a slice from a DataFrame.\n",
      "Try using .loc[row_indexer,col_indexer] = value instead\n",
      "\n",
      "See the caveats in the documentation: https://pandas.pydata.org/pandas-docs/stable/user_guide/indexing.html#returning-a-view-versus-a-copy\n",
      "  subset[\"SAMPLE_ID\"] = sample_id\n",
      "/home/leaf/Desktop/school/subwaysurvey/lib/__init__.py:85: SettingWithCopyWarning: \n",
      "A value is trying to be set on a copy of a slice from a DataFrame.\n",
      "Try using .loc[row_indexer,col_indexer] = value instead\n",
      "\n",
      "See the caveats in the documentation: https://pandas.pydata.org/pandas-docs/stable/user_guide/indexing.html#returning-a-view-versus-a-copy\n",
      "  subset[\"LOCATION\"] = row[\"LOCATION\"]\n",
      "/home/leaf/Desktop/school/subwaysurvey/lib/__init__.py:86: SettingWithCopyWarning: \n",
      "A value is trying to be set on a copy of a slice from a DataFrame.\n",
      "Try using .loc[row_indexer,col_indexer] = value instead\n",
      "\n",
      "See the caveats in the documentation: https://pandas.pydata.org/pandas-docs/stable/user_guide/indexing.html#returning-a-view-versus-a-copy\n",
      "  subset[\"STATUS\"] = row[\"STATUS\"]\n",
      "/home/leaf/Desktop/school/subwaysurvey/lib/__init__.py:87: SettingWithCopyWarning: \n",
      "A value is trying to be set on a copy of a slice from a DataFrame.\n",
      "Try using .loc[row_indexer,col_indexer] = value instead\n",
      "\n",
      "See the caveats in the documentation: https://pandas.pydata.org/pandas-docs/stable/user_guide/indexing.html#returning-a-view-versus-a-copy\n",
      "  subset[\"DIRECTION\"] = row[\"DIRECTION\"]\n"
     ]
    },
    {
     "data": {
      "text/html": [
       "<div>\n",
       "<style scoped>\n",
       "    .dataframe tbody tr th:only-of-type {\n",
       "        vertical-align: middle;\n",
       "    }\n",
       "\n",
       "    .dataframe tbody tr th {\n",
       "        vertical-align: top;\n",
       "    }\n",
       "\n",
       "    .dataframe thead th {\n",
       "        text-align: right;\n",
       "    }\n",
       "</style>\n",
       "<table border=\"1\" class=\"dataframe\">\n",
       "  <thead>\n",
       "    <tr style=\"text-align: right;\">\n",
       "      <th></th>\n",
       "      <th>TIMESTAMP</th>\n",
       "      <th>SENSOR</th>\n",
       "      <th>VALUE</th>\n",
       "      <th>NOTES</th>\n",
       "      <th>SAMPLE_ID</th>\n",
       "      <th>LOCATION</th>\n",
       "      <th>STATUS</th>\n",
       "      <th>DIRECTION</th>\n",
       "    </tr>\n",
       "  </thead>\n",
       "  <tbody>\n",
       "    <tr>\n",
       "      <th>4625</th>\n",
       "      <td>1.530151e+09</td>\n",
       "      <td>3m sd200 slm</td>\n",
       "      <td>68.4</td>\n",
       "      <td>NaN</td>\n",
       "      <td>435</td>\n",
       "      <td>eliot to waban</td>\n",
       "      <td>leaving</td>\n",
       "      <td>1</td>\n",
       "    </tr>\n",
       "    <tr>\n",
       "      <th>71</th>\n",
       "      <td>1.529370e+09</td>\n",
       "      <td>3m sd200 slm</td>\n",
       "      <td>80.6</td>\n",
       "      <td>NaN</td>\n",
       "      <td>337</td>\n",
       "      <td>downtown crossing orange to state street orange</td>\n",
       "      <td>left</td>\n",
       "      <td>1</td>\n",
       "    </tr>\n",
       "    <tr>\n",
       "      <th>3372</th>\n",
       "      <td>1.529894e+09</td>\n",
       "      <td>3m sd200 slm</td>\n",
       "      <td>80.1</td>\n",
       "      <td>NaN</td>\n",
       "      <td>101</td>\n",
       "      <td>government center green</td>\n",
       "      <td>stopped</td>\n",
       "      <td>1</td>\n",
       "    </tr>\n",
       "    <tr>\n",
       "      <th>939</th>\n",
       "      <td>1.529460e+09</td>\n",
       "      <td>3m sd200 slm</td>\n",
       "      <td>81.3</td>\n",
       "      <td>NaN</td>\n",
       "      <td>157</td>\n",
       "      <td>assembly</td>\n",
       "      <td>stopped</td>\n",
       "      <td>0</td>\n",
       "    </tr>\n",
       "    <tr>\n",
       "      <th>647</th>\n",
       "      <td>1.529377e+09</td>\n",
       "      <td>3m sd200 slm</td>\n",
       "      <td>87.1</td>\n",
       "      <td>NaN</td>\n",
       "      <td>401</td>\n",
       "      <td>wood island to airport</td>\n",
       "      <td>left</td>\n",
       "      <td>1</td>\n",
       "    </tr>\n",
       "  </tbody>\n",
       "</table>\n",
       "</div>"
      ],
      "text/plain": [
       "         TIMESTAMP        SENSOR  VALUE  NOTES  SAMPLE_ID  \\\n",
       "4625  1.530151e+09  3m sd200 slm   68.4    NaN        435   \n",
       "71    1.529370e+09  3m sd200 slm   80.6    NaN        337   \n",
       "3372  1.529894e+09  3m sd200 slm   80.1    NaN        101   \n",
       "939   1.529460e+09  3m sd200 slm   81.3    NaN        157   \n",
       "647   1.529377e+09  3m sd200 slm   87.1    NaN        401   \n",
       "\n",
       "                                             LOCATION   STATUS  DIRECTION  \n",
       "4625                                   eliot to waban  leaving          1  \n",
       "71    downtown crossing orange to state street orange     left          1  \n",
       "3372                          government center green  stopped          1  \n",
       "939                                          assembly  stopped          0  \n",
       "647                            wood island to airport     left          1  "
      ]
     },
     "execution_count": 3,
     "metadata": {},
     "output_type": "execute_result"
    }
   ],
   "source": [
    "labels = pandas.concat([pandas.read_csv(x) for x in glob.glob(\"./labels/*.csv\")])\n",
    "for time_column in [\"START\", \"END\"]:\n",
    "    labels[time_column] = (labels[time_column] / 1000)\n",
    "\n",
    "raw_data = pandas.concat([\n",
    "    pandas.read_csv(part)\n",
    "    for part in glob.glob(\"./data_2018/*/observations*.csv\")\n",
    "]).sort_values(\"TIMESTAMP\").reset_index(drop = True)\n",
    "\n",
    "sj = lib.SubwayJoiner()\n",
    "\n",
    "labeled_data = sj.label_data(raw_data, labels)\\\n",
    "    .sort_values(\"TIMESTAMP\").reset_index(drop = True)\n",
    "\n",
    "df = labeled_data\n",
    "df.sample(5)"
   ]
  },
  {
   "cell_type": "markdown",
   "metadata": {},
   "source": [
    "There appear to be some outliers in the data"
   ]
  },
  {
   "cell_type": "code",
   "execution_count": 4,
   "metadata": {},
   "outputs": [
    {
     "data": {
      "image/png": "[encoded data removed]",
      "text/plain": [
       "<Figure size 432x288 with 1 Axes>"
      ]
     },
     "metadata": {
      "needs_background": "light"
     },
     "output_type": "display_data"
    }
   ],
   "source": [
    "pyplot.hist(\n",
    "    numpy.logspace(numpy.log10(df[\"VALUE\"].min()), numpy.log10(df[\"VALUE\"].max()), 20)\n",
    ")\n",
    "pyplot.xlabel(\"dBA\")\n",
    "pyplot.show()\n",
    "pyplot.close()"
   ]
  },
  {
   "cell_type": "markdown",
   "metadata": {},
   "source": [
    "# Invalid value corrections"
   ]
  },
  {
   "cell_type": "code",
   "execution_count": 5,
   "metadata": {},
   "outputs": [],
   "source": [
    "def _correct_sd200(value):\n",
    "    # stated range of sd200 is between 40 and 130 dB\n",
    "    \n",
    "    # unsure what to do if below\n",
    "    if (value < 40):\n",
    "        return numpy.nan\n",
    "    \n",
    "    # if above: attempt correct\n",
    "    elif (value > 130):\n",
    "        value_str = str(int(value))\n",
    "        \n",
    "        # possibility: missed period\n",
    "        # e.g. 708.0 -> 70.8\n",
    "        if (len(value_str) == 3):\n",
    "            return correct_sd200(\n",
    "                float(\"\".join([\n",
    "                    value_str[0],\n",
    "                    value_str[1],\n",
    "                    \".\",\n",
    "                    value_str[2]\n",
    "                ]))\n",
    "            )\n",
    "        \n",
    "        # possibility: entered zero instead of period\n",
    "        # e.g. 7604.0 -> 76.4\n",
    "        elif (value_str[2] == \"0\"):\n",
    "            return correct_sd200(\n",
    "                float(\"\".join([\n",
    "                    value_str[0],\n",
    "                    value_str[1],\n",
    "                    \".\",\n",
    "                    value_str[3]\n",
    "                ])\n",
    "            ))\n",
    "    \n",
    "    # otherwise: no correction neeed\n",
    "    else:\n",
    "        return value\n",
    "    \n",
    "def correct_sd200(value):\n",
    "    try:\n",
    "        return _correct_sd200(value)\n",
    "    except Exception as err:\n",
    "        print(value)\n",
    "        raise err"
   ]
  },
  {
   "cell_type": "code",
   "execution_count": 6,
   "metadata": {},
   "outputs": [],
   "source": [
    "df[\"CORRECTED_VALUE\"] = df[\"VALUE\"].apply(correct_sd200)"
   ]
  },
  {
   "cell_type": "code",
   "execution_count": 7,
   "metadata": {},
   "outputs": [
    {
     "data": {
      "text/html": [
       "<div>\n",
       "<style scoped>\n",
       "    .dataframe tbody tr th:only-of-type {\n",
       "        vertical-align: middle;\n",
       "    }\n",
       "\n",
       "    .dataframe tbody tr th {\n",
       "        vertical-align: top;\n",
       "    }\n",
       "\n",
       "    .dataframe thead th {\n",
       "        text-align: right;\n",
       "    }\n",
       "</style>\n",
       "<table border=\"1\" class=\"dataframe\">\n",
       "  <thead>\n",
       "    <tr style=\"text-align: right;\">\n",
       "      <th></th>\n",
       "      <th>TIMESTAMP</th>\n",
       "      <th>SENSOR</th>\n",
       "      <th>VALUE</th>\n",
       "      <th>NOTES</th>\n",
       "      <th>SAMPLE_ID</th>\n",
       "      <th>LOCATION</th>\n",
       "      <th>STATUS</th>\n",
       "      <th>DIRECTION</th>\n",
       "      <th>CORRECTED_VALUE</th>\n",
       "    </tr>\n",
       "  </thead>\n",
       "  <tbody>\n",
       "    <tr>\n",
       "      <th>1725</th>\n",
       "      <td>1.529466e+09</td>\n",
       "      <td>dylos</td>\n",
       "      <td>646904.0</td>\n",
       "      <td>NaN</td>\n",
       "      <td>240</td>\n",
       "      <td>malden center to oak grove</td>\n",
       "      <td>left</td>\n",
       "      <td>0</td>\n",
       "      <td>NaN</td>\n",
       "    </tr>\n",
       "    <tr>\n",
       "      <th>3309</th>\n",
       "      <td>1.529893e+09</td>\n",
       "      <td>dylos</td>\n",
       "      <td>9.0</td>\n",
       "      <td>NaN</td>\n",
       "      <td>94</td>\n",
       "      <td>lechmere to science park/west end</td>\n",
       "      <td>left</td>\n",
       "      <td>1</td>\n",
       "      <td>NaN</td>\n",
       "    </tr>\n",
       "    <tr>\n",
       "      <th>4698</th>\n",
       "      <td>1.530151e+09</td>\n",
       "      <td>dylos</td>\n",
       "      <td>4.0</td>\n",
       "      <td>NaN</td>\n",
       "      <td>439</td>\n",
       "      <td>woodland to riverside</td>\n",
       "      <td>left</td>\n",
       "      <td>1</td>\n",
       "      <td>NaN</td>\n",
       "    </tr>\n",
       "  </tbody>\n",
       "</table>\n",
       "</div>"
      ],
      "text/plain": [
       "         TIMESTAMP SENSOR     VALUE  NOTES  SAMPLE_ID  \\\n",
       "1725  1.529466e+09  dylos  646904.0    NaN        240   \n",
       "3309  1.529893e+09  dylos       9.0    NaN         94   \n",
       "4698  1.530151e+09  dylos       4.0    NaN        439   \n",
       "\n",
       "                               LOCATION STATUS  DIRECTION  CORRECTED_VALUE  \n",
       "1725         malden center to oak grove   left          0              NaN  \n",
       "3309  lechmere to science park/west end   left          1              NaN  \n",
       "4698              woodland to riverside   left          1              NaN  "
      ]
     },
     "execution_count": 7,
     "metadata": {},
     "output_type": "execute_result"
    }
   ],
   "source": [
    "# values that could not be corrected\n",
    "df[pandas.isnull(df[\"CORRECTED_VALUE\"])]"
   ]
  },
  {
   "cell_type": "code",
   "execution_count": 8,
   "metadata": {},
   "outputs": [
    {
     "data": {
      "image/png": "[encoded data removed]",
      "text/plain": [
       "<Figure size 432x288 with 1 Axes>"
      ]
     },
     "metadata": {
      "needs_background": "light"
     },
     "output_type": "display_data"
    }
   ],
   "source": [
    "df = df[df[\"CORRECTED_VALUE\"].notnull()]\n",
    "pyplot.hist(df[\"CORRECTED_VALUE\"])\n",
    "pyplot.xlabel(\"dBA\")\n",
    "pyplot.show()\n",
    "pyplot.close()"
   ]
  },
  {
   "cell_type": "markdown",
   "metadata": {},
   "source": [
    "# Analysis"
   ]
  },
  {
   "cell_type": "code",
   "execution_count": 9,
   "metadata": {},
   "outputs": [],
   "source": [
    "ESRI_TEMPLATE = \"https://server.arcgisonline.com/ArcGIS/rest/services/%s/MapServer/tile/{z}/{y}/{x}\"\n",
    "ESRI_WORLD_STREET_MAP = ESRI_TEMPLATE % \"World_Street_Map\"\n",
    "ESRI_WORLD_IMAGERY = ESRI_TEMPLATE % \"World_Imagery\"\n",
    "ESRI_WORLD_LIGHT_GRAY_BASE = ESRI_TEMPLATE % \"Canvas/World_Light_Gray_Base\"\n",
    "\n",
    "CARTODB_TEMPLATE = \"https://a.basemaps.cartocdn.com/%s/{z}/{x}/{y}.png\"\n",
    "CARTODB_DARK = CARTODB_TEMPLATE % \"dark_all\"\n",
    "CARTODB_DARK_NOLABELS = CARTODB_TEMPLATE % \"dark_nolabels\"\n",
    "CARTODB_LIGHT = CARTODB_TEMPLATE % \"light_all\"\n",
    "CARTODB_LIGHT_NOLABELS = CARTODB_TEMPLATE % \"light_nolabels\"\n",
    "\n",
    "SD200_AGGREGATES = {\n",
    "#    \"geometry\": \"first\",\n",
    "#    \"LINE\": \"first\",\n",
    "#    \"ROUTE\": \"first\",\n",
    "    \"CORRECTED_VALUE\": [\"median\", \"mean\", \"max\", \"std\", \"count\"]\n",
    "}"
   ]
  },
  {
   "cell_type": "code",
   "execution_count": 10,
   "metadata": {},
   "outputs": [
    {
     "name": "stderr",
     "output_type": "stream",
     "text": [
      "/home/leaf/Desktop/school/subwaysurvey/lib/__init__.py:106: SettingWithCopyWarning: \n",
      "A value is trying to be set on a copy of a slice from a DataFrame.\n",
      "Try using .loc[row_indexer,col_indexer] = value instead\n",
      "\n",
      "See the caveats in the documentation: https://pandas.pydata.org/pandas-docs/stable/user_guide/indexing.html#returning-a-view-versus-a-copy\n",
      "  .apply(lambda x: x[0])\n",
      "/home/leaf/Desktop/school/subwaysurvey/lib/__init__.py:108: SettingWithCopyWarning: \n",
      "A value is trying to be set on a copy of a slice from a DataFrame.\n",
      "Try using .loc[row_indexer,col_indexer] = value instead\n",
      "\n",
      "See the caveats in the documentation: https://pandas.pydata.org/pandas-docs/stable/user_guide/indexing.html#returning-a-view-versus-a-copy\n",
      "  .apply(lambda x: x[1])\n"
     ]
    }
   ],
   "source": [
    "(stations, segments) = sj.geospatial_join(df)"
   ]
  },
  {
   "cell_type": "code",
   "execution_count": 11,
   "metadata": {},
   "outputs": [],
   "source": [
    "lib.export_all_aggregates(stations, segments, SD200_AGGREGATES, \"noise\")\n",
    "lib.export_webapp_input(\n",
    "    stations, segments,\n",
    "    aggregates=SD200_AGGREGATES,\n",
    "    value_generators={\n",
    "        \"center\": lambda row: row[\"CORRECTED_VALUE.mean\"],\n",
    "        \"upper\": lambda row: row[\"CORRECTED_VALUE.mean\"] + row[\"CORRECTED_VALUE.std\"],\n",
    "        \"lower\": lambda row: row[\"CORRECTED_VALUE.mean\"] - row[\"CORRECTED_VALUE.std\"]\n",
    "    },\n",
    "    metadata={\n",
    "        \"axis\": \"Sound Pressure Level [dBA]\",\n",
    "        \"selection\": \"sound pressure level\",\n",
    "        \"center_desc\": \"Mean\",\n",
    "        \"variability_desc\": \"Mean ± 1SD\",\n",
    "        \"colormap\": \"plasma\"\n",
    "    },\n",
    "    quantity=\"noise_level\"\n",
    ")\n",
    "lib.export_webapp_histograms(\n",
    "    stations, segments, \"CORRECTED_VALUE\", \"noise_level\", 30\n",
    ")"
   ]
  },
  {
   "cell_type": "code",
   "execution_count": null,
   "metadata": {},
   "outputs": [],
   "source": []
  }
 ],
 "metadata": {
  "kernelspec": {
   "display_name": "Python 3",
   "language": "python",
   "name": "python3"
  },
  "language_info": {
   "codemirror_mode": {
    "name": "ipython",
    "version": 3
   },
   "file_extension": ".py",
   "mimetype": "text/x-python",
   "name": "python",
   "nbconvert_exporter": "python",
   "pygments_lexer": "ipython3",
   "version": "3.7.4"
  }
 },
 "nbformat": 4,
 "nbformat_minor": 4
}
